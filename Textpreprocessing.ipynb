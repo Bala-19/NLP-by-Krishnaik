{
 "cells": [
  {
   "cell_type": "code",
   "execution_count": 2,
   "metadata": {},
   "outputs": [
    {
     "name": "stdout",
     "output_type": "stream",
     "text": [
      "Requirement already satisfied: nltk in ./.venv/lib/python3.9/site-packages (3.8.1)\n",
      "Requirement already satisfied: click in ./.venv/lib/python3.9/site-packages (from nltk) (8.1.7)\n",
      "Requirement already satisfied: joblib in ./.venv/lib/python3.9/site-packages (from nltk) (1.4.2)\n",
      "Requirement already satisfied: regex>=2021.8.3 in ./.venv/lib/python3.9/site-packages (from nltk) (2024.5.15)\n",
      "Requirement already satisfied: tqdm in ./.venv/lib/python3.9/site-packages (from nltk) (4.66.4)\n",
      "Note: you may need to restart the kernel to use updated packages.\n"
     ]
    }
   ],
   "source": [
    "%pip install nltk"
   ]
  },
  {
   "cell_type": "code",
   "execution_count": 3,
   "metadata": {},
   "outputs": [],
   "source": [
    "paragraph=\"\"\"Blue Lock (Japanese: ブルーロック, Hepburn: Burū Rokku) (stylized as BLUELOCK) is a Japanese manga series written by Muneyuki Kaneshiro and illustrated by Yusuke Nomura [ja]. It has been serialized in Kodansha's Weekly Shōnen Magazine since August 2018, with its chapters collected in 29 tankōbon volumes as of May 2024.\n",
    "\n",
    "An anime television series adaptation produced by Eight Bit aired from October 2022 to March 2023. An anime film adaptation based on the Episode Nagi manga premiered in April 2024. A second season is set to premiere in October 2024.\n",
    "\n",
    "By November 2023, the manga had over 30 million copies in circulation, making it one of the best-selling manga series of all time. In 2021, Blue Lock won the 45th Kodansha Manga Award in the shōnen category.\"\"\""
   ]
  },
  {
   "cell_type": "code",
   "execution_count": 4,
   "metadata": {},
   "outputs": [
    {
     "data": {
      "text/plain": [
       "\"Blue Lock (Japanese: ブルーロック, Hepburn: Burū Rokku) (stylized as BLUELOCK) is a Japanese manga series written by Muneyuki Kaneshiro and illustrated by Yusuke Nomura [ja]. It has been serialized in Kodansha's Weekly Shōnen Magazine since August 2018, with its chapters collected in 29 tankōbon volumes as of May 2024.\\n\\nAn anime television series adaptation produced by Eight Bit aired from October 2022 to March 2023. An anime film adaptation based on the Episode Nagi manga premiered in April 2024. A second season is set to premiere in October 2024.\\n\\nBy November 2023, the manga had over 30 million copies in circulation, making it one of the best-selling manga series of all time. In 2021, Blue Lock won the 45th Kodansha Manga Award in the shōnen category.\""
      ]
     },
     "execution_count": 4,
     "metadata": {},
     "output_type": "execute_result"
    }
   ],
   "source": [
    "paragraph"
   ]
  },
  {
   "cell_type": "code",
   "execution_count": 5,
   "metadata": {},
   "outputs": [],
   "source": [
    "import nltk\n",
    "from nltk.stem import PorterStemmer\n",
    "from nltk.corpus import stopwords"
   ]
  },
  {
   "cell_type": "code",
   "execution_count": 6,
   "metadata": {},
   "outputs": [
    {
     "name": "stderr",
     "output_type": "stream",
     "text": [
      "[nltk_data] Downloading package punkt to /Users/balanivas/nltk_data...\n",
      "[nltk_data]   Package punkt is already up-to-date!\n"
     ]
    }
   ],
   "source": [
    "## Tokenization -- converts paragraph-sentence-words\n",
    "nltk.download('punkt')\n",
    "sentences=nltk.sent_tokenize(paragraph)"
   ]
  },
  {
   "cell_type": "code",
   "execution_count": 7,
   "metadata": {},
   "outputs": [
    {
     "name": "stdout",
     "output_type": "stream",
     "text": [
      "['Blue Lock (Japanese: ブルーロック, Hepburn: Burū Rokku) (stylized as BLUELOCK) is a Japanese manga series written by Muneyuki Kaneshiro and illustrated by Yusuke Nomura [ja].', \"It has been serialized in Kodansha's Weekly Shōnen Magazine since August 2018, with its chapters collected in 29 tankōbon volumes as of May 2024.\", 'An anime television series adaptation produced by Eight Bit aired from October 2022 to March 2023.', 'An anime film adaptation based on the Episode Nagi manga premiered in April 2024.', 'A second season is set to premiere in October 2024.', 'By November 2023, the manga had over 30 million copies in circulation, making it one of the best-selling manga series of all time.', 'In 2021, Blue Lock won the 45th Kodansha Manga Award in the shōnen category.']\n"
     ]
    },
    {
     "data": {
      "text/plain": [
       "list"
      ]
     },
     "execution_count": 7,
     "metadata": {},
     "output_type": "execute_result"
    }
   ],
   "source": [
    "print(sentences)\n",
    "type(sentences)"
   ]
  },
  {
   "cell_type": "code",
   "execution_count": 8,
   "metadata": {},
   "outputs": [],
   "source": [
    "Stemmer=PorterStemmer()"
   ]
  },
  {
   "cell_type": "code",
   "execution_count": 9,
   "metadata": {},
   "outputs": [
    {
     "data": {
      "text/plain": [
       "'histori'"
      ]
     },
     "execution_count": 9,
     "metadata": {},
     "output_type": "execute_result"
    }
   ],
   "source": [
    "Stemmer.stem('history')"
   ]
  },
  {
   "cell_type": "code",
   "execution_count": 10,
   "metadata": {},
   "outputs": [],
   "source": [
    "from nltk.stem import WordNetLemmatizer\n",
    "lemmatizer=WordNetLemmatizer()"
   ]
  },
  {
   "cell_type": "code",
   "execution_count": 11,
   "metadata": {},
   "outputs": [
    {
     "name": "stderr",
     "output_type": "stream",
     "text": [
      "[nltk_data] Downloading package wordnet to\n",
      "[nltk_data]     /Users/balanivas/nltk_data...\n",
      "[nltk_data]   Package wordnet is already up-to-date!\n"
     ]
    },
    {
     "data": {
      "text/plain": [
       "True"
      ]
     },
     "execution_count": 11,
     "metadata": {},
     "output_type": "execute_result"
    }
   ],
   "source": [
    "nltk.download('wordnet')"
   ]
  },
  {
   "cell_type": "code",
   "execution_count": 12,
   "metadata": {},
   "outputs": [
    {
     "data": {
      "text/plain": [
       "'history'"
      ]
     },
     "execution_count": 12,
     "metadata": {},
     "output_type": "execute_result"
    }
   ],
   "source": [
    "lemmatizer.lemmatize('history')"
   ]
  },
  {
   "cell_type": "code",
   "execution_count": 13,
   "metadata": {},
   "outputs": [],
   "source": [
    "len(sentences)\n",
    "import re"
   ]
  },
  {
   "cell_type": "code",
   "execution_count": 14,
   "metadata": {},
   "outputs": [],
   "source": [
    "corpus=[]\n",
    "for i in range(len(sentences)):\n",
    "  review=re.sub('[^a-zA-Z]',' ',sentences[i])\n",
    "  reveiw=review.lower()\n",
    "  review=review.split()\n",
    "  corpus.append(review)"
   ]
  },
  {
   "cell_type": "code",
   "execution_count": 15,
   "metadata": {},
   "outputs": [
    {
     "data": {
      "text/plain": [
       "[['Blue',\n",
       "  'Lock',\n",
       "  'Japanese',\n",
       "  'Hepburn',\n",
       "  'Bur',\n",
       "  'Rokku',\n",
       "  'stylized',\n",
       "  'as',\n",
       "  'BLUELOCK',\n",
       "  'is',\n",
       "  'a',\n",
       "  'Japanese',\n",
       "  'manga',\n",
       "  'series',\n",
       "  'written',\n",
       "  'by',\n",
       "  'Muneyuki',\n",
       "  'Kaneshiro',\n",
       "  'and',\n",
       "  'illustrated',\n",
       "  'by',\n",
       "  'Yusuke',\n",
       "  'Nomura',\n",
       "  'ja'],\n",
       " ['It',\n",
       "  'has',\n",
       "  'been',\n",
       "  'serialized',\n",
       "  'in',\n",
       "  'Kodansha',\n",
       "  's',\n",
       "  'Weekly',\n",
       "  'Sh',\n",
       "  'nen',\n",
       "  'Magazine',\n",
       "  'since',\n",
       "  'August',\n",
       "  'with',\n",
       "  'its',\n",
       "  'chapters',\n",
       "  'collected',\n",
       "  'in',\n",
       "  'tank',\n",
       "  'bon',\n",
       "  'volumes',\n",
       "  'as',\n",
       "  'of',\n",
       "  'May'],\n",
       " ['An',\n",
       "  'anime',\n",
       "  'television',\n",
       "  'series',\n",
       "  'adaptation',\n",
       "  'produced',\n",
       "  'by',\n",
       "  'Eight',\n",
       "  'Bit',\n",
       "  'aired',\n",
       "  'from',\n",
       "  'October',\n",
       "  'to',\n",
       "  'March'],\n",
       " ['An',\n",
       "  'anime',\n",
       "  'film',\n",
       "  'adaptation',\n",
       "  'based',\n",
       "  'on',\n",
       "  'the',\n",
       "  'Episode',\n",
       "  'Nagi',\n",
       "  'manga',\n",
       "  'premiered',\n",
       "  'in',\n",
       "  'April'],\n",
       " ['A', 'second', 'season', 'is', 'set', 'to', 'premiere', 'in', 'October'],\n",
       " ['By',\n",
       "  'November',\n",
       "  'the',\n",
       "  'manga',\n",
       "  'had',\n",
       "  'over',\n",
       "  'million',\n",
       "  'copies',\n",
       "  'in',\n",
       "  'circulation',\n",
       "  'making',\n",
       "  'it',\n",
       "  'one',\n",
       "  'of',\n",
       "  'the',\n",
       "  'best',\n",
       "  'selling',\n",
       "  'manga',\n",
       "  'series',\n",
       "  'of',\n",
       "  'all',\n",
       "  'time'],\n",
       " ['In',\n",
       "  'Blue',\n",
       "  'Lock',\n",
       "  'won',\n",
       "  'the',\n",
       "  'th',\n",
       "  'Kodansha',\n",
       "  'Manga',\n",
       "  'Award',\n",
       "  'in',\n",
       "  'the',\n",
       "  'sh',\n",
       "  'nen',\n",
       "  'category']]"
      ]
     },
     "execution_count": 15,
     "metadata": {},
     "output_type": "execute_result"
    }
   ],
   "source": [
    "corpus"
   ]
  },
  {
   "cell_type": "code",
   "execution_count": 16,
   "metadata": {},
   "outputs": [
    {
     "name": "stderr",
     "output_type": "stream",
     "text": [
      "[nltk_data] Downloading package stopwords to\n",
      "[nltk_data]     /Users/balanivas/nltk_data...\n",
      "[nltk_data]   Package stopwords is already up-to-date!\n"
     ]
    },
    {
     "data": {
      "text/plain": [
       "True"
      ]
     },
     "execution_count": 16,
     "metadata": {},
     "output_type": "execute_result"
    }
   ],
   "source": [
    "nltk.download('stopwords')"
   ]
  },
  {
   "cell_type": "code",
   "execution_count": 17,
   "metadata": {},
   "outputs": [
    {
     "data": {
      "text/plain": [
       "['i',\n",
       " 'me',\n",
       " 'my',\n",
       " 'myself',\n",
       " 'we',\n",
       " 'our',\n",
       " 'ours',\n",
       " 'ourselves',\n",
       " 'you',\n",
       " \"you're\",\n",
       " \"you've\",\n",
       " \"you'll\",\n",
       " \"you'd\",\n",
       " 'your',\n",
       " 'yours',\n",
       " 'yourself',\n",
       " 'yourselves',\n",
       " 'he',\n",
       " 'him',\n",
       " 'his',\n",
       " 'himself',\n",
       " 'she',\n",
       " \"she's\",\n",
       " 'her',\n",
       " 'hers',\n",
       " 'herself',\n",
       " 'it',\n",
       " \"it's\",\n",
       " 'its',\n",
       " 'itself',\n",
       " 'they',\n",
       " 'them',\n",
       " 'their',\n",
       " 'theirs',\n",
       " 'themselves',\n",
       " 'what',\n",
       " 'which',\n",
       " 'who',\n",
       " 'whom',\n",
       " 'this',\n",
       " 'that',\n",
       " \"that'll\",\n",
       " 'these',\n",
       " 'those',\n",
       " 'am',\n",
       " 'is',\n",
       " 'are',\n",
       " 'was',\n",
       " 'were',\n",
       " 'be',\n",
       " 'been',\n",
       " 'being',\n",
       " 'have',\n",
       " 'has',\n",
       " 'had',\n",
       " 'having',\n",
       " 'do',\n",
       " 'does',\n",
       " 'did',\n",
       " 'doing',\n",
       " 'a',\n",
       " 'an',\n",
       " 'the',\n",
       " 'and',\n",
       " 'but',\n",
       " 'if',\n",
       " 'or',\n",
       " 'because',\n",
       " 'as',\n",
       " 'until',\n",
       " 'while',\n",
       " 'of',\n",
       " 'at',\n",
       " 'by',\n",
       " 'for',\n",
       " 'with',\n",
       " 'about',\n",
       " 'against',\n",
       " 'between',\n",
       " 'into',\n",
       " 'through',\n",
       " 'during',\n",
       " 'before',\n",
       " 'after',\n",
       " 'above',\n",
       " 'below',\n",
       " 'to',\n",
       " 'from',\n",
       " 'up',\n",
       " 'down',\n",
       " 'in',\n",
       " 'out',\n",
       " 'on',\n",
       " 'off',\n",
       " 'over',\n",
       " 'under',\n",
       " 'again',\n",
       " 'further',\n",
       " 'then',\n",
       " 'once',\n",
       " 'here',\n",
       " 'there',\n",
       " 'when',\n",
       " 'where',\n",
       " 'why',\n",
       " 'how',\n",
       " 'all',\n",
       " 'any',\n",
       " 'both',\n",
       " 'each',\n",
       " 'few',\n",
       " 'more',\n",
       " 'most',\n",
       " 'other',\n",
       " 'some',\n",
       " 'such',\n",
       " 'no',\n",
       " 'nor',\n",
       " 'not',\n",
       " 'only',\n",
       " 'own',\n",
       " 'same',\n",
       " 'so',\n",
       " 'than',\n",
       " 'too',\n",
       " 'very',\n",
       " 's',\n",
       " 't',\n",
       " 'can',\n",
       " 'will',\n",
       " 'just',\n",
       " 'don',\n",
       " \"don't\",\n",
       " 'should',\n",
       " \"should've\",\n",
       " 'now',\n",
       " 'd',\n",
       " 'll',\n",
       " 'm',\n",
       " 'o',\n",
       " 're',\n",
       " 've',\n",
       " 'y',\n",
       " 'ain',\n",
       " 'aren',\n",
       " \"aren't\",\n",
       " 'couldn',\n",
       " \"couldn't\",\n",
       " 'didn',\n",
       " \"didn't\",\n",
       " 'doesn',\n",
       " \"doesn't\",\n",
       " 'hadn',\n",
       " \"hadn't\",\n",
       " 'hasn',\n",
       " \"hasn't\",\n",
       " 'haven',\n",
       " \"haven't\",\n",
       " 'isn',\n",
       " \"isn't\",\n",
       " 'ma',\n",
       " 'mightn',\n",
       " \"mightn't\",\n",
       " 'mustn',\n",
       " \"mustn't\",\n",
       " 'needn',\n",
       " \"needn't\",\n",
       " 'shan',\n",
       " \"shan't\",\n",
       " 'shouldn',\n",
       " \"shouldn't\",\n",
       " 'wasn',\n",
       " \"wasn't\",\n",
       " 'weren',\n",
       " \"weren't\",\n",
       " 'won',\n",
       " \"won't\",\n",
       " 'wouldn',\n",
       " \"wouldn't\"]"
      ]
     },
     "execution_count": 17,
     "metadata": {},
     "output_type": "execute_result"
    }
   ],
   "source": [
    "stopwords.words('english')"
   ]
  },
  {
   "cell_type": "code",
   "execution_count": 18,
   "metadata": {},
   "outputs": [
    {
     "name": "stdout",
     "output_type": "stream",
     "text": [
      "blue\n",
      "lock\n",
      "japanes\n",
      "hepburn\n",
      "bur\n",
      "rokku\n",
      "styliz\n",
      "bluelock\n",
      "japanes\n",
      "manga\n",
      "seri\n",
      "written\n",
      "muneyuki\n",
      "kaneshiro\n",
      "illustr\n",
      "yusuk\n",
      "nomura\n",
      "ja\n",
      "it\n",
      "serial\n",
      "kodansha\n",
      "weekli\n",
      "sh\n",
      "nen\n",
      "magazin\n",
      "sinc\n",
      "august\n",
      "chapter\n",
      "collect\n",
      "tank\n",
      "bon\n",
      "volum\n",
      "may\n",
      "an\n",
      "anim\n",
      "televis\n",
      "seri\n",
      "adapt\n",
      "produc\n",
      "eight\n",
      "bit\n",
      "air\n",
      "octob\n",
      "march\n",
      "an\n",
      "anim\n",
      "film\n",
      "adapt\n",
      "base\n",
      "episod\n",
      "nagi\n",
      "manga\n",
      "premier\n",
      "april\n",
      "a\n",
      "second\n",
      "season\n",
      "set\n",
      "premier\n",
      "octob\n",
      "by\n",
      "novemb\n",
      "manga\n",
      "million\n",
      "copi\n",
      "circul\n",
      "make\n",
      "one\n",
      "best\n",
      "sell\n",
      "manga\n",
      "seri\n",
      "time\n",
      "in\n",
      "blue\n",
      "lock\n",
      "th\n",
      "kodansha\n",
      "manga\n",
      "award\n",
      "sh\n",
      "nen\n",
      "categori\n"
     ]
    }
   ],
   "source": [
    "## Stemming\n",
    "for i in corpus:\n",
    "  sentence=' '.join(i)\n",
    "  words=nltk.word_tokenize(sentence)\n",
    "  for word in words:\n",
    "    if word not in set(stopwords.words('english')):\n",
    "      print(Stemmer.stem(word))"
   ]
  },
  {
   "cell_type": "code",
   "execution_count": 19,
   "metadata": {},
   "outputs": [
    {
     "name": "stdout",
     "output_type": "stream",
     "text": [
      "In\n",
      "Blue\n",
      "Lock\n",
      "th\n",
      "Kodansha\n",
      "Manga\n",
      "Award\n",
      "sh\n",
      "nen\n",
      "category\n",
      "In\n",
      "Blue\n",
      "Lock\n",
      "th\n",
      "Kodansha\n",
      "Manga\n",
      "Award\n",
      "sh\n",
      "nen\n",
      "category\n",
      "In\n",
      "Blue\n",
      "Lock\n",
      "th\n",
      "Kodansha\n",
      "Manga\n",
      "Award\n",
      "sh\n",
      "nen\n",
      "category\n",
      "In\n",
      "Blue\n",
      "Lock\n",
      "th\n",
      "Kodansha\n",
      "Manga\n",
      "Award\n",
      "sh\n",
      "nen\n",
      "category\n",
      "In\n",
      "Blue\n",
      "Lock\n",
      "th\n",
      "Kodansha\n",
      "Manga\n",
      "Award\n",
      "sh\n",
      "nen\n",
      "category\n",
      "In\n",
      "Blue\n",
      "Lock\n",
      "th\n",
      "Kodansha\n",
      "Manga\n",
      "Award\n",
      "sh\n",
      "nen\n",
      "category\n",
      "In\n",
      "Blue\n",
      "Lock\n",
      "th\n",
      "Kodansha\n",
      "Manga\n",
      "Award\n",
      "sh\n",
      "nen\n",
      "category\n"
     ]
    }
   ],
   "source": [
    "## Lemmatization\n",
    "for i in corpus:\n",
    "  words=nltk.word_tokenize(sentence)\n",
    "  for word in words:\n",
    "    if word not in set(stopwords.words('english')):\n",
    "      print(lemmatizer.lemmatize(word))"
   ]
  },
  {
   "cell_type": "code",
   "execution_count": 20,
   "metadata": {},
   "outputs": [
    {
     "name": "stdout",
     "output_type": "stream",
     "text": [
      "Requirement already satisfied: scikit-learn in ./.venv/lib/python3.9/site-packages (1.5.1)\n",
      "Requirement already satisfied: numpy>=1.19.5 in ./.venv/lib/python3.9/site-packages (from scikit-learn) (2.0.0)\n",
      "Requirement already satisfied: scipy>=1.6.0 in ./.venv/lib/python3.9/site-packages (from scikit-learn) (1.13.1)\n",
      "Requirement already satisfied: joblib>=1.2.0 in ./.venv/lib/python3.9/site-packages (from scikit-learn) (1.4.2)\n",
      "Requirement already satisfied: threadpoolctl>=3.1.0 in ./.venv/lib/python3.9/site-packages (from scikit-learn) (3.5.0)\n",
      "Note: you may need to restart the kernel to use updated packages.\n"
     ]
    }
   ],
   "source": [
    "%pip install -U scikit-learn"
   ]
  },
  {
   "cell_type": "code",
   "execution_count": 21,
   "metadata": {},
   "outputs": [],
   "source": [
    "corpus=[]\n",
    "for i in range(len(sentences)):\n",
    "  review=re.sub('[^a-zA-Z]',' ',sentences[i])\n",
    "  reveiw=review.lower()\n",
    "  review=review.split()\n",
    "  review=[lemmatizer.lemmatize(word) for word in review if not word in set(stopwords.words('english'))]\n",
    "  review=' '.join(review)\n",
    "  corpus.append(review)"
   ]
  },
  {
   "cell_type": "code",
   "execution_count": 22,
   "metadata": {},
   "outputs": [],
   "source": [
    "from sklearn.feature_extraction.text import CountVectorizer\n",
    "cv=CountVectorizer(binary=True)"
   ]
  },
  {
   "cell_type": "code",
   "execution_count": 23,
   "metadata": {},
   "outputs": [],
   "source": [
    "\n",
    "x=cv.fit_transform(corpus)"
   ]
  },
  {
   "cell_type": "code",
   "execution_count": 24,
   "metadata": {},
   "outputs": [
    {
     "data": {
      "text/plain": [
       "{'blue': 10,\n",
       " 'lock': 31,\n",
       " 'japanese': 28,\n",
       " 'hepburn': 23,\n",
       " 'bur': 13,\n",
       " 'rokku': 48,\n",
       " 'stylized': 57,\n",
       " 'bluelock': 11,\n",
       " 'manga': 34,\n",
       " 'series': 53,\n",
       " 'written': 64,\n",
       " 'muneyuki': 38,\n",
       " 'kaneshiro': 29,\n",
       " 'illustrated': 24,\n",
       " 'yusuke': 65,\n",
       " 'nomura': 41,\n",
       " 'ja': 27,\n",
       " 'it': 26,\n",
       " 'serialized': 52,\n",
       " 'kodansha': 30,\n",
       " 'weekly': 63,\n",
       " 'sh': 55,\n",
       " 'nen': 40,\n",
       " 'magazine': 32,\n",
       " 'since': 56,\n",
       " 'august': 5,\n",
       " 'chapter': 16,\n",
       " 'collected': 18,\n",
       " 'tank': 58,\n",
       " 'bon': 12,\n",
       " 'volume': 62,\n",
       " 'may': 36,\n",
       " 'an': 2,\n",
       " 'anime': 3,\n",
       " 'television': 59,\n",
       " 'adaptation': 0,\n",
       " 'produced': 47,\n",
       " 'eight': 20,\n",
       " 'bit': 9,\n",
       " 'aired': 1,\n",
       " 'october': 43,\n",
       " 'march': 35,\n",
       " 'film': 22,\n",
       " 'based': 7,\n",
       " 'episode': 21,\n",
       " 'nagi': 39,\n",
       " 'premiered': 46,\n",
       " 'april': 4,\n",
       " 'second': 50,\n",
       " 'season': 49,\n",
       " 'set': 54,\n",
       " 'premiere': 45,\n",
       " 'by': 14,\n",
       " 'november': 42,\n",
       " 'million': 37,\n",
       " 'copy': 19,\n",
       " 'circulation': 17,\n",
       " 'making': 33,\n",
       " 'one': 44,\n",
       " 'best': 8,\n",
       " 'selling': 51,\n",
       " 'time': 61,\n",
       " 'in': 25,\n",
       " 'th': 60,\n",
       " 'award': 6,\n",
       " 'category': 15}"
      ]
     },
     "execution_count": 24,
     "metadata": {},
     "output_type": "execute_result"
    }
   ],
   "source": [
    "cv.vocabulary_"
   ]
  },
  {
   "cell_type": "code",
   "execution_count": 25,
   "metadata": {},
   "outputs": [
    {
     "data": {
      "text/plain": [
       "'Blue Lock Japanese Hepburn Bur Rokku stylized BLUELOCK Japanese manga series written Muneyuki Kaneshiro illustrated Yusuke Nomura ja'"
      ]
     },
     "execution_count": 25,
     "metadata": {},
     "output_type": "execute_result"
    }
   ],
   "source": [
    "corpus[0]"
   ]
  },
  {
   "cell_type": "code",
   "execution_count": 26,
   "metadata": {},
   "outputs": [
    {
     "data": {
      "text/plain": [
       "array([[0, 0, 0, 0, 0, 0, 0, 0, 0, 0, 1, 1, 0, 1, 0, 0, 0, 0, 0, 0, 0, 0,\n",
       "        0, 1, 1, 0, 0, 1, 1, 1, 0, 1, 0, 0, 1, 0, 0, 0, 1, 0, 0, 1, 0, 0,\n",
       "        0, 0, 0, 0, 1, 0, 0, 0, 0, 1, 0, 0, 0, 1, 0, 0, 0, 0, 0, 0, 1, 1]])"
      ]
     },
     "execution_count": 26,
     "metadata": {},
     "output_type": "execute_result"
    }
   ],
   "source": [
    "x[0].toarray()"
   ]
  },
  {
   "cell_type": "code",
   "execution_count": 27,
   "metadata": {},
   "outputs": [],
   "source": [
    "#TF-IDF\n",
    "from sklearn.feature_extraction.text import TfidfVectorizer\n",
    "cv=TfidfVectorizer(ngram_range=(2,3),max_features=10)\n",
    "X=cv.fit_transform(corpus)"
   ]
  },
  {
   "cell_type": "code",
   "execution_count": 28,
   "metadata": {},
   "outputs": [
    {
     "data": {
      "text/plain": [
       "'Blue Lock Japanese Hepburn Bur Rokku stylized BLUELOCK Japanese manga series written Muneyuki Kaneshiro illustrated Yusuke Nomura ja'"
      ]
     },
     "execution_count": 28,
     "metadata": {},
     "output_type": "execute_result"
    }
   ],
   "source": [
    "corpus[0]"
   ]
  },
  {
   "cell_type": "code",
   "execution_count": 29,
   "metadata": {},
   "outputs": [
    {
     "data": {
      "text/plain": [
       "array([[0.        , 0.        , 0.53828134, 0.53828134, 0.        ,\n",
       "        0.        , 0.64846464, 0.        , 0.        , 0.        ]])"
      ]
     },
     "execution_count": 29,
     "metadata": {},
     "output_type": "execute_result"
    }
   ],
   "source": [
    "X[0].toarray()"
   ]
  },
  {
   "cell_type": "code",
   "execution_count": null,
   "metadata": {},
   "outputs": [],
   "source": []
  }
 ],
 "metadata": {
  "kernelspec": {
   "display_name": ".venv",
   "language": "python",
   "name": "python3"
  },
  "language_info": {
   "codemirror_mode": {
    "name": "ipython",
    "version": 3
   },
   "file_extension": ".py",
   "mimetype": "text/x-python",
   "name": "python",
   "nbconvert_exporter": "python",
   "pygments_lexer": "ipython3",
   "version": "3.9.6"
  }
 },
 "nbformat": 4,
 "nbformat_minor": 2
}
